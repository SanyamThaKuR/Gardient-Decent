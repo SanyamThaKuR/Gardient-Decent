{
 "cells": [
  {
   "cell_type": "markdown",
   "metadata": {},
   "source": [
    "📌 Gradient Descent in Machine Learning\n",
    "\"An optimization algorithm to minimize the cost function.\"\n",
    "\n",
    "🚀 What is Gradient Descent?\n",
    "\n",
    "Gradient Descent is an iterative optimization algorithm used to find the minimum of a function. It is widely used in Machine Learning and Deep Learning to optimize model parameters.\n",
    "\n",
    "​\t<img src=\"Screenshot 2025-01-30 at 5.39.54 PM.png\" alt=\"Gradient Descent\" width=\"100\">\n",
    "\n",
    " \n",
    "Where:\n",
    "θ → Parameter (Weight/Bias)\n",
    "α → Learning Rate\n",
    "J(θ) → Cost Function"
   ]
  },
  {
   "cell_type": "markdown",
   "metadata": {},
   "source": []
  },
  {
   "cell_type": "code",
   "execution_count": 2,
   "metadata": {},
   "outputs": [],
   "source": [
    "import numpy as np\n",
    "import pandas as pd\n",
    "import tensorflow as tf\n",
    "from tensorflow import keras\n",
    "from tensorflow.keras import layers\n",
    "import matplotlib.pyplot as plt"
   ]
  },
  {
   "cell_type": "code",
   "execution_count": 4,
   "metadata": {},
   "outputs": [],
   "source": [
    "raw_data = pd.read_csv('insurance_data.csv')"
   ]
  },
  {
   "cell_type": "markdown",
   "metadata": {},
   "source": [
    "Steps for Visualizing"
   ]
  },
  {
   "cell_type": "code",
   "execution_count": 5,
   "metadata": {},
   "outputs": [
    {
     "data": {
      "text/html": [
       "<div>\n",
       "<style scoped>\n",
       "    .dataframe tbody tr th:only-of-type {\n",
       "        vertical-align: middle;\n",
       "    }\n",
       "\n",
       "    .dataframe tbody tr th {\n",
       "        vertical-align: top;\n",
       "    }\n",
       "\n",
       "    .dataframe thead th {\n",
       "        text-align: right;\n",
       "    }\n",
       "</style>\n",
       "<table border=\"1\" class=\"dataframe\">\n",
       "  <thead>\n",
       "    <tr style=\"text-align: right;\">\n",
       "      <th></th>\n",
       "      <th>age</th>\n",
       "      <th>affordibility</th>\n",
       "      <th>bought_insurance</th>\n",
       "    </tr>\n",
       "  </thead>\n",
       "  <tbody>\n",
       "    <tr>\n",
       "      <th>0</th>\n",
       "      <td>22</td>\n",
       "      <td>1</td>\n",
       "      <td>0</td>\n",
       "    </tr>\n",
       "    <tr>\n",
       "      <th>1</th>\n",
       "      <td>25</td>\n",
       "      <td>0</td>\n",
       "      <td>0</td>\n",
       "    </tr>\n",
       "    <tr>\n",
       "      <th>2</th>\n",
       "      <td>47</td>\n",
       "      <td>1</td>\n",
       "      <td>1</td>\n",
       "    </tr>\n",
       "    <tr>\n",
       "      <th>3</th>\n",
       "      <td>52</td>\n",
       "      <td>0</td>\n",
       "      <td>0</td>\n",
       "    </tr>\n",
       "    <tr>\n",
       "      <th>4</th>\n",
       "      <td>46</td>\n",
       "      <td>1</td>\n",
       "      <td>1</td>\n",
       "    </tr>\n",
       "  </tbody>\n",
       "</table>\n",
       "</div>"
      ],
      "text/plain": [
       "   age  affordibility  bought_insurance\n",
       "0   22              1                 0\n",
       "1   25              0                 0\n",
       "2   47              1                 1\n",
       "3   52              0                 0\n",
       "4   46              1                 1"
      ]
     },
     "execution_count": 5,
     "metadata": {},
     "output_type": "execute_result"
    }
   ],
   "source": [
    "raw_data.head()"
   ]
  },
  {
   "cell_type": "code",
   "execution_count": 16,
   "metadata": {},
   "outputs": [
    {
     "name": "stdout",
     "output_type": "stream",
     "text": [
      "<class 'pandas.core.frame.DataFrame'>\n",
      "RangeIndex: 28 entries, 0 to 27\n",
      "Data columns (total 3 columns):\n",
      " #   Column            Non-Null Count  Dtype\n",
      "---  ------            --------------  -----\n",
      " 0   age               28 non-null     int64\n",
      " 1   affordibility     28 non-null     int64\n",
      " 2   bought_insurance  28 non-null     int64\n",
      "dtypes: int64(3)\n",
      "memory usage: 804.0 bytes\n",
      "None\n",
      "(28, 3)\n"
     ]
    }
   ],
   "source": [
    "print(raw_data.info())\n",
    "print(raw_data.shape)"
   ]
  },
  {
   "cell_type": "code",
   "execution_count": 8,
   "metadata": {},
   "outputs": [
    {
     "data": {
      "text/plain": [
       "age                 0\n",
       "affordibility       0\n",
       "bought_insurance    0\n",
       "dtype: int64"
      ]
     },
     "execution_count": 8,
     "metadata": {},
     "output_type": "execute_result"
    }
   ],
   "source": [
    "null_data = raw_data.isnull().sum()\n",
    "null_data"
   ]
  },
  {
   "cell_type": "markdown",
   "metadata": {},
   "source": [
    "Converting to Vectors"
   ]
  },
  {
   "cell_type": "code",
   "execution_count": 27,
   "metadata": {},
   "outputs": [],
   "source": [
    "X = raw_data[['age','affordibility']].values\n",
    "y = raw_data[['bought_insurance']].values"
   ]
  },
  {
   "cell_type": "code",
   "execution_count": 28,
   "metadata": {},
   "outputs": [
    {
     "name": "stdout",
     "output_type": "stream",
     "text": [
      "(28, 2) (28, 1)\n"
     ]
    }
   ],
   "source": [
    "print(X.shape , y.shape)"
   ]
  },
  {
   "cell_type": "markdown",
   "metadata": {},
   "source": [
    "<h3>Sigmoid Function(Activation Function)</h3></br>\n",
    "<img src=\"Screenshot 2025-01-30 at 6.03.29 PM.png\" alt=\"formula\" width=\"200\">\n"
   ]
  },
  {
   "cell_type": "code",
   "execution_count": 24,
   "metadata": {},
   "outputs": [],
   "source": [
    "def sigmoid(z):\n",
    "    return 1/(1 + np.exp(-z))"
   ]
  },
  {
   "cell_type": "code",
   "execution_count": 35,
   "metadata": {},
   "outputs": [],
   "source": [
    "theta = np.random.randn(2, 1)  # Random weights\n",
    "bias = np.random.randn(1)      # Random bias\n",
    "learning_rate = 0.01\n",
    "iterations = 1000\n",
    "m = len(y)"
   ]
  },
  {
   "cell_type": "markdown",
   "metadata": {},
   "source": [
    "<h3>Gradient decend</h3>\n",
    "</br>\n",
    "</br>\n",
    "<img src = \"tangent.png\" alt =\"Tangent\" width = \"500\">\n",
    "</br>\n",
    "</br>\n",
    "<img src = \"Sigmoid.png\" alt =\"Sin\" width = \"500\">\n",
    "</br>\n",
    "</br>\n",
    "</br>\n",
    "</br>\n",
    "<img src = \"Cost_function.png\" alt =\"Cost\" width = \"500\">\n"
   ]
  },
  {
   "cell_type": "code",
   "execution_count": 36,
   "metadata": {},
   "outputs": [],
   "source": [
    "for _ in range(iterations):\n",
    "    z = X @ theta + bias\n",
    "    y_pred = sigmoid(z)\n",
    "    error = y_pred - y\n",
    "    \n",
    "    grad_theta = (1/m) * (X.T @ error)  # Gradient w.r.t weights\n",
    "    grad_bias = (1/m) * np.sum(error)   # Gradient w.r.t bias\n",
    "    \n",
    "    theta -= learning_rate * grad_theta  # Update weights\n",
    "    bias -= learning_rate * grad_bias    # Update bias"
   ]
  },
  {
   "cell_type": "code",
   "execution_count": 37,
   "metadata": {},
   "outputs": [
    {
     "name": "stdout",
     "output_type": "stream",
     "text": [
      "Trained weights (theta): [[ 0.01913795]\n",
      " [-0.11211532]]\n",
      "Trained bias: [-1.08213123]\n"
     ]
    }
   ],
   "source": [
    "# Now `theta` and `bias` are trained, and we can use them for prediction\n",
    "print(\"Trained weights (theta):\", theta)\n",
    "print(\"Trained bias:\", bias)\n"
   ]
  },
  {
   "cell_type": "code",
   "execution_count": null,
   "metadata": {},
   "outputs": [],
   "source": []
  }
 ],
 "metadata": {
  "kernelspec": {
   "display_name": "Python 3",
   "language": "python",
   "name": "python3"
  },
  "language_info": {
   "codemirror_mode": {
    "name": "ipython",
    "version": 3
   },
   "file_extension": ".py",
   "mimetype": "text/x-python",
   "name": "python",
   "nbconvert_exporter": "python",
   "pygments_lexer": "ipython3",
   "version": "3.11.5"
  }
 },
 "nbformat": 4,
 "nbformat_minor": 2
}
